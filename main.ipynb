{
 "cells": [
  {
   "cell_type": "markdown",
   "metadata": {
    "cell_id": "ee9eb2f3a12a4b0fa563d13cc865268b",
    "deepnote_cell_type": "text-cell-h1",
    "formattedRanges": []
   },
   "source": [
    "# Data Science and Artificial Intelligence II"
   ]
  },
  {
   "cell_type": "markdown",
   "metadata": {
    "cell_id": "58e57312cb3245ac9aa69ab57b6d213e",
    "deepnote_cell_type": "text-cell-h2",
    "formattedRanges": []
   },
   "source": [
    "## Fake News detection project"
   ]
  },
  {
   "cell_type": "markdown",
   "metadata": {
    "cell_id": "44da07b074ae49af8ef71ce4325be15a",
    "deepnote_cell_type": "text-cell-h3",
    "formattedRanges": []
   },
   "source": [
    "### by David Sitek and Nicola Krenn"
   ]
  },
  {
   "cell_type": "markdown",
   "metadata": {
    "cell_id": "f79a4ff3-f798-4aff-86de-be6221b95548",
    "deepnote_cell_type": "text-cell-p",
    "formattedRanges": []
   },
   "source": [
    "Welcome to our little project on Fake News detection using tree-based models specifically, mainly because of their possibly more natural explanative value. In the following steps, we will prepare the data as input for the models, then extract features and build the models. The dataset used can be viewed under the link below, it is an updated version of the dataset used in:"
   ]
  },
  {
   "cell_type": "markdown",
   "metadata": {
    "cell_id": "c02073fd-7db3-4d8b-96ce-b76f6362c372",
    "deepnote_cell_type": "text-cell-p",
    "formattedRanges": [
     {
      "fromCodePoint": 0,
      "ranges": [],
      "toCodePoint": 0,
      "type": "link",
      "url": "https://link.springer.com/chapter/10.1007/978-3-319-69155-8_9#Sec1"
     }
    ]
   },
   "source": [
    "Ahmed, H., Traore, I., Saad, S. (2017). Detection of Online Fake News Using N-Gram Analysis and Machine Learning Techniques. In: Traore, I., Woungang, I., Awad, A. (eds) Intelligent, Secure, and Dependable Systems in Distributed and Cloud Environments. ISDDC 2017. Lecture Notes in Computer Science(), vol 10618. Springer, Cham. https://doi.org/10.1007/978-3-319-69155-8_9"
   ]
  },
  {
   "cell_type": "markdown",
   "metadata": {
    "cell_id": "45912319-733d-4b2d-bd57-9c2c3c0eeffc",
    "deepnote_cell_type": "text-cell-p",
    "formattedRanges": []
   },
   "source": [
    "The general goal as proposed is to get better insights in why the authors in the study did not pursue tree-based models, as their tree-based model did not score much worse than the possibly less explainable models. We hope to explore a bit around the topic as well."
   ]
  },
  {
   "cell_type": "code",
   "execution_count": null,
   "metadata": {
    "cell_id": "133b38f14c3344c2b919778545378282",
    "deepnote_cell_type": "code",
    "deepnote_to_be_reexecuted": false,
    "execution_millis": 50,
    "execution_start": 1685691503874,
    "source_hash": "1f93566e"
   },
   "outputs": [],
   "source": [
    "#!wget https://onlineacademiccommunity.uvic.ca/isot/wp-content/uploads/sites/7295/2023/03/News-_dataset.zip"
   ]
  },
  {
   "cell_type": "code",
   "execution_count": null,
   "metadata": {
    "cell_id": "d1336e177cd140acbd78eff575ee4dcc",
    "deepnote_cell_type": "code",
    "deepnote_to_be_reexecuted": false,
    "execution_millis": 7,
    "execution_start": 1685691503918,
    "source_hash": "b60a7945"
   },
   "outputs": [],
   "source": [
    "#!unzip -o News-_dataset.zip"
   ]
  },
  {
   "cell_type": "markdown",
   "metadata": {
    "cell_id": "578c96f5751540b690f7e6379b520a8d",
    "deepnote_cell_type": "text-cell-p",
    "formattedRanges": []
   },
   "source": [
    "The two input files Fake.csv and True.csv contain exactly that, true and fake articles. A tabular overview is provided along the dataset:"
   ]
  },
  {
   "cell_type": "markdown",
   "metadata": {
    "cell_id": "8514674ac8f3417a92d3548f5e51dcb9",
    "deepnote_cell_type": "markdown"
   },
   "source": [
    "![Picture title](image-20230523-123159.png)"
   ]
  },
  {
   "cell_type": "markdown",
   "metadata": {
    "cell_id": "d196c77317a145dcb06d886081f19d99",
    "deepnote_cell_type": "text-cell-p",
    "formattedRanges": []
   },
   "source": [
    "For our task we rely mainly on in-memory analytics star pandas along with some ML/AI libraries for the models"
   ]
  },
  {
   "cell_type": "code",
   "execution_count": null,
   "metadata": {
    "cell_id": "06f278f2b92c4252adad41a5bddb483a",
    "deepnote_cell_type": "code",
    "deepnote_to_be_reexecuted": false,
    "execution_millis": 7,
    "execution_start": 1685691503918,
    "source_hash": "9b82ee11"
   },
   "outputs": [],
   "source": [
    "import pandas as pd"
   ]
  },
  {
   "cell_type": "code",
   "execution_count": null,
   "metadata": {
    "cell_id": "6749e05631b54a7daf57b47d3202c65b",
    "deepnote_cell_type": "code",
    "deepnote_to_be_reexecuted": false,
    "execution_millis": 1590,
    "execution_start": 1685691503919,
    "source_hash": "8b255cee"
   },
   "outputs": [],
   "source": [
    "df_fake = pd.read_csv(\"Fake.csv\")"
   ]
  },
  {
   "cell_type": "code",
   "execution_count": null,
   "metadata": {
    "cell_id": "be805356b2d04d87b1dd5aa789d18ed9",
    "deepnote_cell_type": "code",
    "deepnote_to_be_reexecuted": false,
    "execution_millis": 775,
    "execution_start": 1685691505513,
    "source_hash": "531f1eb1"
   },
   "outputs": [],
   "source": [
    "df_fake"
   ]
  },
  {
   "cell_type": "markdown",
   "metadata": {
    "cell_id": "3030f03f775d4b32973b2728f5359311",
    "deepnote_cell_type": "text-cell-p",
    "formattedRanges": []
   },
   "source": [
    "You can see that the original dataset features 4 columns, including the title and the type as well as the date. For our use-case, we mainly rely on the full-text rather than the title. One might argue that the title itself contains valuable information, however, we think that out-of-context lurid phrases like the title might even be misleading in some more quality-oriented journalism. Therefore, we will remove this later on, but keep it right now for context."
   ]
  },
  {
   "cell_type": "code",
   "execution_count": null,
   "metadata": {
    "cell_id": "8045f9d8bb1d416e8c5fe1db70f236e3",
    "deepnote_cell_type": "code",
    "deepnote_to_be_reexecuted": false,
    "execution_millis": 3,
    "execution_start": 1685691506333,
    "source_hash": "fef93f77"
   },
   "outputs": [],
   "source": [
    "df_fake[\"fake\"] = True"
   ]
  },
  {
   "cell_type": "code",
   "execution_count": null,
   "metadata": {
    "cell_id": "4762639a803e4a0aa207240d7d0de069",
    "deepnote_cell_type": "code",
    "deepnote_to_be_reexecuted": false,
    "execution_millis": 466,
    "execution_start": 1685691506334,
    "source_hash": "531f1eb1"
   },
   "outputs": [],
   "source": [
    "df_fake"
   ]
  },
  {
   "cell_type": "code",
   "execution_count": null,
   "metadata": {
    "cell_id": "0c05d5dd7303487dab367c2d0d233099",
    "deepnote_cell_type": "code",
    "deepnote_to_be_reexecuted": false,
    "execution_millis": 2779,
    "execution_start": 1685691506853,
    "source_hash": "1d64dc59"
   },
   "outputs": [],
   "source": [
    "df_non_fake = pd.read_csv(\"True.csv\")"
   ]
  },
  {
   "cell_type": "code",
   "execution_count": null,
   "metadata": {
    "cell_id": "52dd4ced15894df4a6536165797b691d",
    "deepnote_cell_type": "code",
    "deepnote_to_be_reexecuted": false,
    "execution_millis": 5,
    "execution_start": 1685691509668,
    "source_hash": "cceb27e8"
   },
   "outputs": [],
   "source": [
    "df_non_fake[\"fake\"] = False"
   ]
  },
  {
   "cell_type": "code",
   "execution_count": null,
   "metadata": {
    "cell_id": "04b0763372f94339a1933f75d9aa1988",
    "deepnote_cell_type": "code",
    "deepnote_to_be_reexecuted": false,
    "execution_millis": 20,
    "execution_start": 1685691509682,
    "source_hash": "b7cf2665"
   },
   "outputs": [],
   "source": [
    "df = pd.concat([df_non_fake, df_fake])"
   ]
  },
  {
   "cell_type": "code",
   "execution_count": null,
   "metadata": {
    "cell_id": "5b1a55e0e79143619433d358056b690c",
    "deepnote_cell_type": "code",
    "deepnote_table_loading": false,
    "deepnote_table_state": {
     "filters": [],
     "pageIndex": 3999,
     "pageSize": 10,
     "sortBy": []
    },
    "deepnote_to_be_reexecuted": false,
    "execution_millis": 893,
    "execution_start": 1685691509697,
    "source_hash": "f804c160"
   },
   "outputs": [],
   "source": [
    "df"
   ]
  },
  {
   "cell_type": "code",
   "execution_count": null,
   "metadata": {
    "cell_id": "54bfa20923164415ab9b30ccd3f5ff54",
    "deepnote_cell_type": "code",
    "deepnote_to_be_reexecuted": false,
    "execution_millis": 1405,
    "execution_start": 1685691510601,
    "source_hash": "f88152d9"
   },
   "outputs": [],
   "source": [
    "df.describe()"
   ]
  },
  {
   "cell_type": "markdown",
   "metadata": {
    "cell_id": "ddf3dbacf7fa4a598a247e106a86315c",
    "deepnote_cell_type": "text-cell-p",
    "formattedRanges": []
   },
   "source": [
    "Upon checking the data, what quickly comes to mind is that there seemingly are a lot of duplicates regarding the text. Since duplicates in general might skew results and in general do not add much value, we will look into this first, possibly spotting also other interesting points."
   ]
  },
  {
   "cell_type": "code",
   "execution_count": null,
   "metadata": {
    "cell_id": "1aa6fefeb2a44c618ae3c6259244ea67",
    "deepnote_cell_type": "code",
    "deepnote_table_loading": false,
    "deepnote_table_state": {
     "filters": [],
     "pageIndex": 622,
     "pageSize": 10,
     "sortBy": []
    },
    "deepnote_to_be_reexecuted": false,
    "execution_millis": 229,
    "execution_start": 1685691512085,
    "source_hash": "b76a8d91"
   },
   "outputs": [],
   "source": [
    "df[df[\"text\"].duplicated()].sort_values(by=\"text\")"
   ]
  },
  {
   "cell_type": "markdown",
   "metadata": {
    "cell_id": "dd85b57ece0d41a89820036c7b50e33b",
    "deepnote_cell_type": "text-cell-p",
    "formattedRanges": []
   },
   "source": [
    "Two things become visible especially, one being that many columns are empty and that there are a lot of texts just containing a click-bait title and a link, for example a youtube link. Since we cannot really check the links content and would just need to be checking the title, and the general use-case example is not really focused on click-bait media, we should probably remove this. This could be handled by e.g. either removing link-only articles or by enforcing a lower bound for article length."
   ]
  },
  {
   "cell_type": "code",
   "execution_count": null,
   "metadata": {
    "cell_id": "22a9ba2b919944059f3c2ccf7a907ae7",
    "deepnote_cell_type": "code",
    "deepnote_to_be_reexecuted": false,
    "execution_millis": 2,
    "execution_start": 1685691512441,
    "source_hash": "d8fdd71c"
   },
   "outputs": [],
   "source": [
    "df[\"text_length\"] = df[\"text\"].apply(len)"
   ]
  },
  {
   "cell_type": "code",
   "execution_count": null,
   "metadata": {
    "cell_id": "32ed0252ef6141c58fb2f2972bafbca8",
    "deepnote_cell_type": "code",
    "deepnote_to_be_reexecuted": false,
    "execution_millis": 45,
    "execution_start": 1685691512442,
    "source_hash": "946d404a"
   },
   "outputs": [],
   "source": [
    "df[\"text_length\"].describe()"
   ]
  },
  {
   "cell_type": "markdown",
   "metadata": {
    "cell_id": "791f5e9ca7e44201b2c9a59204c1ba21",
    "deepnote_cell_type": "text-cell-p",
    "formattedRanges": []
   },
   "source": [
    "When looking at the general distribution of the text length, it seems obvious that there are in general just very few low length articles. We decided that cutting all articles with a length lower than 100 seems like a good idea, as they will probably just reference to some other resource."
   ]
  },
  {
   "cell_type": "code",
   "execution_count": null,
   "metadata": {
    "cell_id": "1d431644f65e4369a055e6766823b794",
    "deepnote_cell_type": "code",
    "deepnote_to_be_reexecuted": false,
    "execution_millis": 16,
    "execution_start": 1685691512488,
    "source_hash": "38e2b665"
   },
   "outputs": [],
   "source": [
    "df = df[df[\"text_length\"] >= 100]"
   ]
  },
  {
   "cell_type": "code",
   "execution_count": null,
   "metadata": {
    "cell_id": "815c1f23c1fd44a99ddd5a530d6028d8",
    "deepnote_cell_type": "code",
    "deepnote_to_be_reexecuted": false,
    "execution_millis": 883,
    "execution_start": 1685691512509,
    "source_hash": "f804c160"
   },
   "outputs": [],
   "source": [
    "df"
   ]
  },
  {
   "cell_type": "code",
   "execution_count": null,
   "metadata": {
    "cell_id": "58f9925721864204b6beb1c36b7180f1",
    "deepnote_cell_type": "code",
    "deepnote_to_be_reexecuted": false,
    "execution_millis": 6,
    "execution_start": 1685691513410,
    "source_hash": "b623e53d"
   },
   "outputs": [],
   "source": []
  },
  {
   "cell_type": "markdown",
   "metadata": {
    "cell_id": "39b9e4e577c7430392d25971327812a0",
    "deepnote_cell_type": "text-cell-p",
    "formattedRanges": []
   },
   "source": [
    "We started with 44898 rows, now there are only 43858 left. Seems reasonable. Let us now look at the rest of the \"duplicates\"."
   ]
  },
  {
   "cell_type": "code",
   "execution_count": null,
   "metadata": {
    "cell_id": "fa61e9b38a314cdf9b02600f0109f2a6",
    "deepnote_cell_type": "code",
    "deepnote_table_loading": false,
    "deepnote_table_state": {
     "filters": [],
     "pageIndex": 1054,
     "pageSize": 10,
     "sortBy": []
    },
    "deepnote_to_be_reexecuted": false,
    "execution_millis": 317,
    "execution_start": 1685691513477,
    "source_hash": "c5636ba3"
   },
   "outputs": [],
   "source": [
    "df[df[\"text\"].duplicated(keep=False)].sort_values(by=\"text\")"
   ]
  },
  {
   "cell_type": "markdown",
   "metadata": {
    "cell_id": "453a6e5325ba40db8ca10bfbbb9b47d4",
    "deepnote_cell_type": "text-cell-p",
    "formattedRanges": []
   },
   "source": [
    "We can see that we reduced the duplicates already, however, still having a lot of duplicates by text. The smartest thing to do here is to deduplicate it. Pandas Dataframe.drop_duplicates(keep=first) keeps the first occurrence of the duplicate.df"
   ]
  },
  {
   "cell_type": "code",
   "execution_count": null,
   "metadata": {
    "cell_id": "8807cf92c0454014a2c1a576a6584327",
    "deepnote_cell_type": "code",
    "deepnote_to_be_reexecuted": false,
    "execution_millis": 561,
    "execution_start": 1685691513825,
    "source_hash": "c0ec4f72"
   },
   "outputs": [],
   "source": [
    "df_cleaned = df.drop_duplicates(subset=\"text\", keep=\"first\")"
   ]
  },
  {
   "cell_type": "code",
   "execution_count": null,
   "metadata": {
    "cell_id": "0fbb1ee6b59c4297972871fbd17d9ccf",
    "deepnote_cell_type": "code",
    "deepnote_to_be_reexecuted": false,
    "execution_millis": 20,
    "execution_start": 1685691514387,
    "source_hash": "2f6a22e4"
   },
   "outputs": [],
   "source": [
    "df_cleaned[\"text\"].duplicated().sum()"
   ]
  },
  {
   "cell_type": "code",
   "execution_count": null,
   "metadata": {
    "cell_id": "22d7cbf1601544499c7eab59f59dd31b",
    "deepnote_cell_type": "code",
    "deepnote_to_be_reexecuted": false,
    "execution_millis": 46,
    "execution_start": 1685691514465,
    "source_hash": "4afcaf0b"
   },
   "outputs": [],
   "source": [
    "df_cleaned[df_cleaned[\"fake\"] == True].count()"
   ]
  },
  {
   "cell_type": "code",
   "execution_count": null,
   "metadata": {
    "cell_id": "c6238f8fabf34d6a9865274ae5c2c2e2",
    "deepnote_cell_type": "code",
    "deepnote_to_be_reexecuted": false,
    "execution_millis": 45,
    "execution_start": 1685691514510,
    "source_hash": "eb95cad3"
   },
   "outputs": [],
   "source": [
    "df_cleaned[df_cleaned[\"fake\"] == False].count()"
   ]
  },
  {
   "cell_type": "code",
   "execution_count": null,
   "metadata": {
    "cell_id": "0a9e423ec35d49eebaeaac4d76b9f6ae",
    "deepnote_cell_type": "code",
    "deepnote_to_be_reexecuted": false,
    "execution_millis": 73,
    "execution_start": 1685691514554,
    "source_hash": "c6933582"
   },
   "outputs": [],
   "source": [
    "df_cleaned[df_cleaned[\"fake\"] == False].groupby(by=\"subject\").count()"
   ]
  },
  {
   "cell_type": "code",
   "execution_count": null,
   "metadata": {
    "cell_id": "9c048cc1b9db43b9b7e0da0c28b8180b",
    "deepnote_cell_type": "code",
    "deepnote_to_be_reexecuted": false,
    "execution_millis": 7,
    "execution_start": 1685691514700,
    "source_hash": "b16957ac"
   },
   "outputs": [],
   "source": [
    "df_cleaned[df_cleaned[\"fake\"] == True].groupby(by=\"subject\").count()"
   ]
  },
  {
   "cell_type": "code",
   "execution_count": null,
   "metadata": {
    "cell_id": "c2196d27c8204257a8ae8b758e3c5791",
    "deepnote_cell_type": "code",
    "deepnote_to_be_reexecuted": false,
    "execution_millis": 115,
    "execution_start": 1685691514709,
    "source_hash": "ad377ea2"
   },
   "outputs": [],
   "source": [
    "# Transform \"fake\" labels to fake = 1, not-fake = 0\n",
    "df_cleaned[\"fake\"] = df_cleaned[\"fake\"].replace(to_replace=False, value=0)\n",
    "df_cleaned[\"fake\"] = df_cleaned[\"fake\"].replace(to_replace=True, value=1)"
   ]
  },
  {
   "cell_type": "code",
   "execution_count": null,
   "metadata": {
    "cell_id": "41ee5a76f61842f3a2e7f1041fd5d7d2",
    "deepnote_cell_type": "code",
    "deepnote_table_loading": false,
    "deepnote_table_state": {
     "filters": [],
     "pageIndex": 3499,
     "pageSize": 10,
     "sortBy": []
    },
    "deepnote_to_be_reexecuted": false,
    "execution_millis": 758,
    "execution_start": 1685691514833,
    "source_hash": "c22014bd"
   },
   "outputs": [],
   "source": [
    "df_cleaned"
   ]
  },
  {
   "cell_type": "code",
   "execution_count": null,
   "metadata": {
    "cell_id": "917f24bd3e434eaaba116e4c55e154dc",
    "deepnote_cell_type": "code",
    "deepnote_to_be_reexecuted": false,
    "execution_millis": 52434,
    "execution_start": 1685691515599,
    "source_hash": "c84d444c"
   },
   "outputs": [],
   "source": [
    "from sklearn.model_selection import train_test_split\n",
    "from sklearn.feature_extraction.text import TfidfVectorizer\n",
    "from sklearn.tree import DecisionTreeClassifier\n",
    "from sklearn import tree\n",
    "\n",
    "\n",
    "# Split the dataset into training and testing sets\n",
    "train_data, test_data, train_labels, test_labels = train_test_split(df_cleaned['text'], df_cleaned['fake'], test_size=0.2, random_state=15)\n",
    "\n",
    "# Create a TF-IDF vectorizer to convert text into numerical features\n",
    "vectorizer = TfidfVectorizer(max_features=5000)\n",
    "train_features = vectorizer.fit_transform(train_data)\n",
    "test_features = vectorizer.transform(test_data)\n",
    "\n",
    "# Train a decision tree classifier\n",
    "tree_model = DecisionTreeClassifier()\n",
    "tree_model.fit(train_features, train_labels)\n",
    "\n",
    "# Extract feature names from the vectorizer\n",
    "feature_names = vectorizer.get_feature_names_out()\n",
    "\n",
    "# Visualize the decision tree\n",
    "tree.plot_tree(tree_model, feature_names=feature_names)\n",
    "\n",
    "# Get the most important features for classification\n",
    "importance = tree_model.feature_importances_\n",
    "important_features = [(feature_names[i], importance[i]) for i in range(len(feature_names))]\n",
    "important_features.sort(key=lambda x: x[1], reverse=True)\n",
    "\n",
    "# Print the top 10 important features\n",
    "print(\"Top 10 important features:\")\n",
    "for feature, importance in important_features[:10]:\n",
    "    print(f\"{feature}: {importance}\")\n"
   ]
  },
  {
   "cell_type": "code",
   "execution_count": null,
   "metadata": {
    "cell_id": "fd97b5bea9854913bbe8c6d00cc3d05d",
    "deepnote_cell_type": "code",
    "deepnote_to_be_reexecuted": true,
    "execution_millis": 4,
    "execution_start": 1685688549345,
    "source_hash": "dc669d3a"
   },
   "outputs": [],
   "source": [
    "train_data"
   ]
  },
  {
   "cell_type": "markdown",
   "metadata": {
    "cell_id": "d57e94f140744c5a85ddc38ebe15957d",
    "deepnote_cell_type": "text-cell-p",
    "formattedRanges": []
   },
   "source": [
    "The first run seems quite successful. However, we see that the top most important feature is \"reuters\". You can see that in some cases \"reuters\" is written in the beginning of the text. Since the dataset under study sourced most of its \"true\" articles from reuters, this should be no real surprise. We will probably have to remove this... However, let's just see how this tree model did."
   ]
  },
  {
   "cell_type": "code",
   "execution_count": null,
   "metadata": {
    "cell_id": "737ed6aadead45aea0fbbf79ad8731ed",
    "deepnote_cell_type": "code",
    "deepnote_to_be_reexecuted": true,
    "execution_millis": 47,
    "execution_start": 1685688549352,
    "source_hash": "307d87bf"
   },
   "outputs": [],
   "source": [
    "pred = tree_model.predict(test_features)"
   ]
  },
  {
   "cell_type": "code",
   "execution_count": null,
   "metadata": {
    "cell_id": "ac8211536cc34d19bea2b3bbeba5ee00",
    "deepnote_cell_type": "code",
    "deepnote_to_be_reexecuted": true,
    "execution_millis": 3,
    "execution_start": 1685688549437,
    "source_hash": "c2602aa8"
   },
   "outputs": [],
   "source": [
    "import numpy as np"
   ]
  },
  {
   "cell_type": "code",
   "execution_count": null,
   "metadata": {
    "cell_id": "a830edfc67d54c03bf731ddaf1739d04",
    "deepnote_cell_type": "code",
    "deepnote_to_be_reexecuted": true,
    "execution_millis": 2,
    "execution_start": 1685688549438,
    "source_hash": "13091036"
   },
   "outputs": [],
   "source": [
    "print(\"RMS: %r \" % np.sqrt(np.mean((pred - test_labels) ** 2)))"
   ]
  },
  {
   "cell_type": "code",
   "execution_count": null,
   "metadata": {
    "cell_id": "08d158065f564736902a0389182c9ab2",
    "deepnote_cell_type": "code",
    "deepnote_to_be_reexecuted": true,
    "execution_millis": 49,
    "execution_start": 1685688549438,
    "source_hash": "19b0bcad"
   },
   "outputs": [],
   "source": [
    "loc_test_labels = test_labels.reset_index()\n",
    "sum_correct = 0\n",
    "for i in range(0, len(pred)-1):\n",
    "    if pred[i] == loc_test_labels[\"fake\"][i]:\n",
    "        sum_correct += 1\n",
    "        "
   ]
  },
  {
   "cell_type": "code",
   "execution_count": null,
   "metadata": {
    "cell_id": "6f1a122fc0ad49a6b4922d1cc889a877",
    "deepnote_cell_type": "code",
    "deepnote_to_be_reexecuted": true,
    "execution_millis": 2,
    "execution_start": 1685688549486,
    "source_hash": "7dd506fc"
   },
   "outputs": [],
   "source": [
    "sum_correct"
   ]
  },
  {
   "cell_type": "code",
   "execution_count": null,
   "metadata": {
    "cell_id": "82885d1a5e9e4247b88098bf4add1d94",
    "deepnote_cell_type": "code",
    "deepnote_to_be_reexecuted": true,
    "execution_millis": 5,
    "execution_start": 1685688549487,
    "source_hash": "e9c47365"
   },
   "outputs": [],
   "source": [
    "len(pred)"
   ]
  },
  {
   "cell_type": "code",
   "execution_count": null,
   "metadata": {
    "cell_id": "a2b704769a1e45a4a921918ae1337f9e",
    "deepnote_cell_type": "code",
    "deepnote_to_be_reexecuted": true,
    "execution_millis": 5,
    "execution_start": 1685688549499,
    "source_hash": "a91dbbd"
   },
   "outputs": [],
   "source": [
    "sum_correct / len(pred) # 99.5% items predicted positively in total"
   ]
  },
  {
   "cell_type": "markdown",
   "metadata": {
    "cell_id": "aa76674fa8f44f99a82fabb40e1282a3",
    "deepnote_cell_type": "text-cell-p",
    "formattedRanges": []
   },
   "source": [
    "It appears that this way of predicting is almost 100% successful, no wonder because of the reuters keyword. One may wonder if the authors of the study did or did not remove this in the course of their paper. The fact that this is still in the dataset is a key demonstrator for the use of explainable models in general, because in a study with biased data and a non-explainable model, we would have never stumbled upon this. In general, this happens frequently in research as well as in industry, leading to multiple consequences."
   ]
  },
  {
   "cell_type": "markdown",
   "metadata": {
    "cell_id": "3db9c3e7-413b-46c9-8d77-25a221908c38",
    "deepnote_cell_type": "text-cell-p",
    "formattedRanges": []
   },
   "source": [
    "Because the keyword is in the data, we want to remove it first, but let us have a little overview in what the previous network implemented feature-wise. In the main study for reference (see below), they used stop-word removal, stemming and TF-IDF vectorizing in order to get to their depicted accuracy of models. The model above only implements the TF-IDF vectorizing aspect."
   ]
  },
  {
   "cell_type": "markdown",
   "metadata": {
    "cell_id": "ce3ebe03-ab91-4f25-8df6-2417865487bc",
    "deepnote_cell_type": "text-cell-p",
    "formattedRanges": []
   },
   "source": [
    "So for a next step, we will first remove the reuters keyword naively, so cutting \"(Reuters)\", and similar texts is next up. Then we rerun the same model with only the TF-IDF vectorizer and compare."
   ]
  },
  {
   "cell_type": "code",
   "execution_count": null,
   "metadata": {
    "cell_id": "1ed7af99e9c74961afa7ec2b206488e5",
    "deepnote_cell_type": "code",
    "deepnote_to_be_reexecuted": true,
    "execution_millis": 319,
    "execution_start": 1685688549545,
    "source_hash": "c22014bd"
   },
   "outputs": [],
   "source": [
    "df_cleaned"
   ]
  },
  {
   "cell_type": "code",
   "execution_count": null,
   "metadata": {
    "cell_id": "32d40aaf389949db827a6d1bf6dc9dd0",
    "deepnote_cell_type": "code",
    "deepnote_to_be_reexecuted": true,
    "execution_millis": 104,
    "execution_start": 1685688549865,
    "source_hash": "ea73c5ed"
   },
   "outputs": [],
   "source": [
    "df_cleaned[\"text\"] = df_cleaned[\"text\"].map(lambda x: x.replace(\"(Reuters)\", \"\"))"
   ]
  },
  {
   "cell_type": "code",
   "execution_count": null,
   "metadata": {
    "cell_id": "f4213c16b83b494194a50940993ab81c",
    "deepnote_cell_type": "code",
    "deepnote_to_be_reexecuted": true,
    "execution_millis": 108,
    "execution_start": 1685688549973,
    "source_hash": "29f61ad7"
   },
   "outputs": [],
   "source": [
    "df_cleaned[\"text\"] = df_cleaned[\"text\"].map(lambda x: x.replace(\"Reuters\", \"\"))"
   ]
  },
  {
   "cell_type": "code",
   "execution_count": null,
   "metadata": {
    "cell_id": "f8a233ba32b64a54b5c481f187b162eb",
    "deepnote_cell_type": "code",
    "deepnote_to_be_reexecuted": true,
    "execution_millis": 69,
    "execution_start": 1685688550084,
    "source_hash": "bb078f25"
   },
   "outputs": [],
   "source": [
    "df_cleaned[\"text\"] = df_cleaned[\"text\"].map(lambda x: x.replace(\"reuters\", \"\"))"
   ]
  },
  {
   "cell_type": "code",
   "execution_count": null,
   "metadata": {
    "cell_id": "34720e3e379e4866aa58a9b05a77d7ae",
    "deepnote_cell_type": "code",
    "deepnote_to_be_reexecuted": true,
    "execution_millis": 338,
    "execution_start": 1685688550167,
    "source_hash": "c22014bd"
   },
   "outputs": [],
   "source": [
    "df_cleaned"
   ]
  },
  {
   "cell_type": "markdown",
   "metadata": {
    "cell_id": "d7ace21f320542eea95a3be98a07cdb1",
    "deepnote_cell_type": "text-cell-p",
    "formattedRanges": []
   },
   "source": [
    "As a little heads-up: we removed the key reuters, however, there still is the location mentioned first in most of the reuters articles. We will see if the locations now get flagged as truthful high important features..."
   ]
  },
  {
   "cell_type": "code",
   "execution_count": null,
   "metadata": {
    "cell_id": "073ccbce3b1445ef919287d1474afd51",
    "deepnote_cell_type": "code",
    "deepnote_to_be_reexecuted": true,
    "execution_millis": 113008,
    "execution_start": 1685688550507,
    "source_hash": "c84d444c"
   },
   "outputs": [],
   "source": [
    "from sklearn.model_selection import train_test_split\n",
    "from sklearn.feature_extraction.text import TfidfVectorizer\n",
    "from sklearn.tree import DecisionTreeClassifier\n",
    "from sklearn import tree\n",
    "\n",
    "\n",
    "# Split the dataset into training and testing sets\n",
    "train_data, test_data, train_labels, test_labels = train_test_split(df_cleaned['text'], df_cleaned['fake'], test_size=0.2, random_state=15)\n",
    "\n",
    "# Create a TF-IDF vectorizer to convert text into numerical features\n",
    "vectorizer = TfidfVectorizer(max_features=5000)\n",
    "train_features = vectorizer.fit_transform(train_data)\n",
    "test_features = vectorizer.transform(test_data)\n",
    "\n",
    "# Train a decision tree classifier\n",
    "tree_model = DecisionTreeClassifier()\n",
    "tree_model.fit(train_features, train_labels)\n",
    "\n",
    "# Extract feature names from the vectorizer\n",
    "feature_names = vectorizer.get_feature_names_out()\n",
    "\n",
    "# Visualize the decision tree\n",
    "tree.plot_tree(tree_model, feature_names=feature_names)\n",
    "\n",
    "# Get the most important features for classification\n",
    "importance = tree_model.feature_importances_\n",
    "important_features = [(feature_names[i], importance[i]) for i in range(len(feature_names))]\n",
    "important_features.sort(key=lambda x: x[1], reverse=True)\n",
    "\n",
    "# Print the top 10 important features\n",
    "print(\"Top 10 important features:\")\n",
    "for feature, importance in important_features[:10]:\n",
    "    print(f\"{feature}: {importance}\")\n"
   ]
  },
  {
   "cell_type": "code",
   "execution_count": null,
   "metadata": {
    "cell_id": "207032b8cc5d48ef9621082e5ef976a9",
    "deepnote_cell_type": "code",
    "deepnote_to_be_reexecuted": true,
    "execution_millis": 97,
    "execution_start": 1685688663517,
    "source_hash": "93ea5b96"
   },
   "outputs": [],
   "source": [
    "pred = tree_model.predict(test_features)\n",
    "\n",
    "loc_test_labels = test_labels.reset_index()\n",
    "sum_correct = 0\n",
    "for i in range(0, len(pred)-1):\n",
    "    if pred[i] == loc_test_labels[\"fake\"][i]:\n",
    "        sum_correct += 1\n",
    "\n",
    "\n",
    "sum_correct / len(pred) # 93.5% items predicted positively in total"
   ]
  },
  {
   "cell_type": "markdown",
   "metadata": {
    "cell_id": "e254474867cd4306a7f230154d7e6ee6",
    "deepnote_cell_type": "text-cell-p",
    "formattedRanges": []
   },
   "source": [
    "The inbetween model not containing the Reuters keyword anymore seems to have a new champion in important features. The word \"via\". We will quickly look into this manually and check wether it is used in some sense that is far off from the use-case comparably like \"reuters\". "
   ]
  },
  {
   "cell_type": "code",
   "execution_count": null,
   "metadata": {
    "cell_id": "5c7c6684fc104f61ab7a253685b6b23c",
    "deepnote_cell_type": "code",
    "deepnote_to_be_reexecuted": true,
    "execution_millis": 12,
    "execution_start": 1685688663626,
    "source_hash": "2cf75360"
   },
   "outputs": [],
   "source": [
    "df.iloc[5,1]"
   ]
  },
  {
   "cell_type": "code",
   "execution_count": null,
   "metadata": {
    "cell_id": "e1a31538a1354f649185ae755e39d726",
    "deepnote_cell_type": "code",
    "deepnote_to_be_reexecuted": true,
    "execution_millis": 723,
    "execution_start": 1685688887651,
    "source_hash": "5f175e11"
   },
   "outputs": [],
   "source": [
    "df[df['text'].str.contains(' via ')][\"text\"].iloc[10]"
   ]
  },
  {
   "cell_type": "markdown",
   "metadata": {
    "cell_id": "109fe7fbb8694ca68a03fff7fce4f9d3",
    "deepnote_cell_type": "text-cell-p",
    "formattedRanges": []
   },
   "source": [
    "From manual inspection, we did not find any clues to this when looking at the uncleaned text. So it probably is just used as a normal word and fake news do not like it (as it might be used as a word to establish proof/references). What is interesting is that the location like Beijing in the above example does not play a role."
   ]
  },
  {
   "cell_type": "code",
   "execution_count": null,
   "metadata": {
    "cell_id": "b1f58983b2244af994472de96944b530",
    "deepnote_cell_type": "code",
    "deepnote_to_be_reexecuted": true,
    "execution_millis": 7,
    "execution_start": 1685689124488,
    "source_hash": "4fc0c663"
   },
   "outputs": [],
   "source": [
    "df_cleaned[\"text\"]"
   ]
  },
  {
   "cell_type": "markdown",
   "metadata": {
    "cell_id": "43c9a430a259459c91c9c28d726fdc9c",
    "deepnote_cell_type": "text-cell-p",
    "formattedRanges": []
   },
   "source": [
    "We think that from a data cleaning standpoint, this dataset is now quite solid, especially since we removed the indicator reuters. The next thing to do is to move on to feature selection, specifically applying the methods used in the paper, which we will quickly list and explain here:"
   ]
  },
  {
   "cell_type": "markdown",
   "metadata": {
    "cell_id": "b2fb8aca-002f-4d7e-ae05-a5296110932b",
    "deepnote_cell_type": "text-cell-p",
    "formattedRanges": []
   },
   "source": [
    "Stop Word Removal:"
   ]
  },
  {
   "cell_type": "markdown",
   "metadata": {
    "cell_id": "51e84667-e34b-40ec-ab98-1caebba60935",
    "deepnote_cell_type": "text-cell-p",
    "formattedRanges": []
   },
   "source": [
    "Insignificant words like about, that, ... may create noise in such models like we have here. They are commonly used and can especially be \"noisy\" when using n-Gram type of analysis. In the paper, they stated that they \"removed common words\n",
    "such as, a, about, an, are, as, at, be, by, for, from, how, in, is, of, on, or, that, the, these,\n",
    "this, too, was, what, when, where, who, will, etc.\"."
   ]
  },
  {
   "cell_type": "markdown",
   "metadata": {
    "cell_id": "c801f021-e406-40f5-b460-c45238fcc145",
    "deepnote_cell_type": "text-cell-p",
    "formattedRanges": []
   },
   "source": [
    "As this list is not very specific and we do not have the code they used (although asking for it via e-mail), we might as well just rely on the preselected list of stopwords from scikit. The option stop_words = 'english' uses the prebuilt list."
   ]
  },
  {
   "cell_type": "markdown",
   "metadata": {
    "cell_id": "53e50d49-912b-4ea3-a03e-5188eb6aafff",
    "deepnote_cell_type": "text-cell-p",
    "formattedRanges": []
   },
   "source": [
    "The following code will rerun the model above with just this addition in order to compare and contrast the change."
   ]
  },
  {
   "cell_type": "code",
   "execution_count": null,
   "metadata": {
    "cell_id": "a53cda94fe6e4c0281ce52593459fba2",
    "deepnote_cell_type": "code",
    "deepnote_to_be_reexecuted": true,
    "execution_millis": 229056,
    "execution_start": 1685689551337,
    "source_hash": "59afc47e"
   },
   "outputs": [],
   "source": [
    "# Split the dataset into training and testing sets\n",
    "train_data, test_data, train_labels, test_labels = train_test_split(df_cleaned['text'], df_cleaned['fake'], test_size=0.2, random_state=15)\n",
    "\n",
    "# Create a TF-IDF vectorizer to convert text into numerical features\n",
    "vectorizer = TfidfVectorizer(max_features=5000, stop_words='english')\n",
    "train_features = vectorizer.fit_transform(train_data)\n",
    "test_features = vectorizer.transform(test_data)\n",
    "\n",
    "# Train a decision tree classifier\n",
    "tree_model = DecisionTreeClassifier()\n",
    "tree_model.fit(train_features, train_labels)\n",
    "\n",
    "# Extract feature names from the vectorizer\n",
    "feature_names = vectorizer.get_feature_names_out()\n",
    "\n",
    "# Visualize the decision tree\n",
    "tree.plot_tree(tree_model, feature_names=feature_names)\n",
    "\n",
    "# Get the most important features for classification\n",
    "importance = tree_model.feature_importances_\n",
    "important_features = [(feature_names[i], importance[i]) for i in range(len(feature_names))]\n",
    "important_features.sort(key=lambda x: x[1], reverse=True)\n",
    "\n",
    "# Print the top 10 important features\n",
    "print(\"Top 10 important features:\")\n",
    "for feature, importance in important_features[:10]:\n",
    "    print(f\"{feature}: {importance}\")\n"
   ]
  },
  {
   "cell_type": "code",
   "execution_count": null,
   "metadata": {
    "cell_id": "29f7dbfde45847bfa344ae590aaaefdb",
    "deepnote_cell_type": "code",
    "deepnote_to_be_reexecuted": true,
    "execution_millis": 213,
    "execution_start": 1685689780433,
    "source_hash": "63abc658"
   },
   "outputs": [],
   "source": [
    "pred = tree_model.predict(test_features)\n",
    "\n",
    "loc_test_labels = test_labels.reset_index()\n",
    "sum_correct = 0\n",
    "for i in range(0, len(pred)-1):\n",
    "    if pred[i] == loc_test_labels[\"fake\"][i]:\n",
    "        sum_correct += 1\n",
    "\n",
    "\n",
    "sum_correct / len(pred) # 92.6% items predicted positively in total"
   ]
  },
  {
   "cell_type": "markdown",
   "metadata": {
    "cell_id": "d330c89d5efc4d65bdd4994ca4b2b177",
    "deepnote_cell_type": "text-cell-p",
    "formattedRanges": [
     {
      "fromCodePoint": 450,
      "ranges": [],
      "toCodePoint": 551,
      "type": "link",
      "url": "https://towardsdatascience.com/elegant-text-pre-processing-with-nltk-in-sklearn-pipeline-d6fe18b91eb8"
     }
    ]
   },
   "source": [
    "In a trial and error fashion, we found that just applying stop word removal lowers the accuracy by around a full percent, leading to the \"via\" feature to disappear. Upon looking it up, it really is marked as a stop-word. We accept this for now, moving on to other techniques. As a little heads-up: we looked at literature regarding text pre-processing and found the following graphic representation of mostly used text pre-processing techniques from https://towardsdatascience.com/elegant-text-pre-processing-with-nltk-in-sklearn-pipeline-d6fe18b91eb8"
   ]
  },
  {
   "cell_type": "markdown",
   "metadata": {
    "cell_id": "d6725cc74d644b0da07f810631fe9ddf",
    "deepnote_cell_type": "markdown"
   },
   "source": [
    "![Picture title](image-20230602-091356.png)"
   ]
  },
  {
   "cell_type": "markdown",
   "metadata": {
    "cell_id": "c6f0b13647ca46f9af5bc6954c9b3d40",
    "deepnote_cell_type": "text-cell-p",
    "formattedRanges": []
   },
   "source": [
    "Note that the paper in general uses some of the older examples, however, does not mention noise removal or some more advanced techniques like Lemmatization."
   ]
  },
  {
   "cell_type": "markdown",
   "metadata": {
    "cell_id": "d0c997be-5559-4128-98d2-b071ef254196",
    "deepnote_cell_type": "text-cell-p",
    "formattedRanges": []
   },
   "source": [
    "Moving on to the next step in the paper, they use stemming, specifically the \"porter stemmer\", which they mention to be the most commonly used stemming algorithm due to its accuracy (at the time of writing!). The NLTK package offers a stemmer also applying the porter algorithm. We will use this."
   ]
  },
  {
   "cell_type": "code",
   "execution_count": null,
   "metadata": {
    "cell_id": "9bd418d8444c430787a565d73b3fed8c",
    "deepnote_cell_type": "code",
    "deepnote_to_be_reexecuted": true,
    "execution_millis": 4967,
    "execution_start": 1685691455242,
    "source_hash": "33f57d8a"
   },
   "outputs": [],
   "source": [
    "from nltk.stem.porter import *\n",
    "\n",
    "stemmer = PorterStemmer()\n",
    "\n",
    "df_cleaned[\"text_stemmed\"] = df_cleaned['text'].apply(lambda x: ' '.join([stemmer.stem(word) for word in x.split()]))\n"
   ]
  },
  {
   "cell_type": "code",
   "execution_count": null,
   "metadata": {},
   "outputs": [],
   "source": [
    "df_cleaned[\"text\"].iloc[1]"
   ]
  },
  {
   "cell_type": "code",
   "execution_count": null,
   "metadata": {
    "cell_id": "4a9652eabd4a4f3da5f24a1212839d7c",
    "deepnote_cell_type": "code",
    "deepnote_to_be_reexecuted": true,
    "source_hash": "c22014bd"
   },
   "outputs": [],
   "source": [
    "df_cleaned[\"text_stemmed\"].iloc[1]"
   ]
  },
  {
   "cell_type": "code",
   "execution_count": null,
   "metadata": {
    "cell_id": "be7d4f90aaf94337a6a3dac17169d7b2",
    "deepnote_cell_type": "code",
    "deepnote_to_be_reexecuted": true,
    "execution_millis": 13,
    "execution_start": 1685691495287,
    "source_hash": "257d0bdb"
   },
   "outputs": [],
   "source": [
    "# Split the dataset into training and testing sets\n",
    "train_data, test_data, train_labels, test_labels = train_test_split(df_cleaned['text_stemmed'], df_cleaned['fake'], test_size=0.2, random_state=15)\n",
    "\n",
    "# Create a TF-IDF vectorizer to convert text into numerical features\n",
    "vectorizer = TfidfVectorizer(max_features=5000, stop_words='english')\n",
    "train_features = vectorizer.fit_transform(train_data)\n",
    "test_features = vectorizer.transform(test_data)\n",
    "\n",
    "# Train a decision tree classifier\n",
    "tree_model = DecisionTreeClassifier()\n",
    "tree_model.fit(train_features, train_labels)\n",
    "\n",
    "# Extract feature names from the vectorizer\n",
    "feature_names = vectorizer.get_feature_names_out()\n",
    "\n",
    "# Visualize the decision tree\n",
    "tree.plot_tree(tree_model, feature_names=feature_names)\n",
    "\n",
    "# Get the most important features for classification\n",
    "importance = tree_model.feature_importances_\n",
    "important_features = [(feature_names[i], importance[i]) for i in range(len(feature_names))]\n",
    "important_features.sort(key=lambda x: x[1], reverse=True)\n",
    "\n",
    "# Print the top 10 important features\n",
    "print(\"Top 10 important features:\")\n",
    "for feature, importance in important_features[:10]:\n",
    "    print(f\"{feature}: {importance}\")\n"
   ]
  },
  {
   "cell_type": "code",
   "execution_count": null,
   "metadata": {},
   "outputs": [],
   "source": [
    "pred = tree_model.predict(test_features)\n",
    "\n",
    "loc_test_labels = test_labels.reset_index()\n",
    "sum_correct = 0\n",
    "for i in range(0, len(pred)-1):\n",
    "    if pred[i] == loc_test_labels[\"fake\"][i]:\n",
    "        sum_correct += 1\n",
    "\n",
    "\n",
    "sum_correct / len(pred) # 94.9% items predicted positively in total"
   ]
  },
  {
   "cell_type": "markdown",
   "metadata": {
    "cell_id": "c86f566ef1d24846bc5e918355270a72",
    "deepnote_cell_type": "text-cell-p",
    "formattedRanges": []
   },
   "source": [
    "The resulting stemmed column will now be used as input for the TFIDF Vectorizer and the model in general. You can see the new model and accuracy above. Please note that because of the stemming, we had to move to a different, more powerful machine, since this takes much resources. This may or may not make it unviable for you to run the notebook on your machine.\n",
    "\n",
    "Next up, the paper incorporates a 5-fold cross validation. This ensures that the results are stable. We will incorporate this down here."
   ]
  },
  {
   "cell_type": "code",
   "execution_count": null,
   "metadata": {},
   "outputs": [],
   "source": [
    "from sklearn.model_selection import cross_val_score"
   ]
  },
  {
   "cell_type": "code",
   "execution_count": null,
   "metadata": {},
   "outputs": [],
   "source": [
    "# Create a TF-IDF vectorizer to convert text into numerical features\n",
    "vectorizer = TfidfVectorizer(max_features=5000, stop_words='english')\n",
    "X = vectorizer.fit_transform(df_cleaned[\"text_stemmed\"])\n",
    "y = df_cleaned[\"fake\"]\n",
    "\n",
    "# Train a decision tree classifier using 5-fold-cross-validation\n",
    "tree_model = DecisionTreeClassifier()\n",
    "scores = cross_val_score(tree_model, X, y, cv=5)\n",
    "\n",
    "# Print the cross-validation accuracy scores\n",
    "print(\"Cross-Validation Accuracy Scores:\")\n",
    "for fold, score in enumerate(scores, start=1):\n",
    "    print(f\"Fold {fold}: {score}\")"
   ]
  },
  {
   "cell_type": "code",
   "execution_count": null,
   "metadata": {},
   "outputs": [],
   "source": [
    "scores.mean()"
   ]
  },
  {
   "cell_type": "markdown",
   "metadata": {},
   "source": [
    "We can see that the average accuracy dropped a little bit, however, it still stays pretty high. As a first reference to the studies results, the \"highest\" achieved Accuracy usingn Decision trees was achieved by using TF-IDF in a Unigram setting. It was 89.0 percent. This means that our model scores significantly better than the model in the study, while not even setting the maximum features to higher values or tweaking additional hyperparameters. The two decision tree models that scored best were the ones using 10 thousand and 50 thousand maximum features. Therefore, we suggest testing this next, also applying a k-fold validation."
   ]
  },
  {
   "cell_type": "code",
   "execution_count": null,
   "metadata": {},
   "outputs": [],
   "source": [
    "# Create a TF-IDF vectorizer to convert text into numerical features\n",
    "vectorizer = TfidfVectorizer(max_features=10000, stop_words='english')\n",
    "X = vectorizer.fit_transform(df_cleaned[\"text_stemmed\"])\n",
    "y = df_cleaned[\"fake\"]\n",
    "\n",
    "# Train a decision tree classifier using 5-fold-cross-validation\n",
    "tree_model = DecisionTreeClassifier()\n",
    "scores = cross_val_score(tree_model, X, y, cv=5)\n",
    "\n",
    "# Print the cross-validation accuracy scores\n",
    "print(\"Cross-Validation Accuracy Scores:\")\n",
    "for fold, score in enumerate(scores, start=1):\n",
    "    print(f\"Fold {fold}: {score}\")\n",
    "    \n",
    "    \n",
    "print(\"Average Accuracy: \", scores.mean())"
   ]
  },
  {
   "cell_type": "code",
   "execution_count": null,
   "metadata": {},
   "outputs": [],
   "source": [
    "# Create a TF-IDF vectorizer to convert text into numerical features\n",
    "vectorizer = TfidfVectorizer(max_features=50000, stop_words='english')\n",
    "X = vectorizer.fit_transform(df_cleaned[\"text_stemmed\"])\n",
    "y = df_cleaned[\"fake\"]\n",
    "\n",
    "# Train a decision tree classifier using 5-fold-cross-validation\n",
    "tree_model = DecisionTreeClassifier()\n",
    "scores = cross_val_score(tree_model, X, y, cv=5)\n",
    "\n",
    "# Print the cross-validation accuracy scores\n",
    "print(\"Cross-Validation Accuracy Scores:\")\n",
    "for fold, score in enumerate(scores, start=1):\n",
    "    print(f\"Fold {fold}: {score}\")\n",
    "    \n",
    "    \n",
    "print(\"Average Accuracy: \", scores.mean())"
   ]
  },
  {
   "cell_type": "markdown",
   "metadata": {},
   "source": [
    "There does not seem to be a huge difference, I would say a minimal one at best. The only setting that we did not really touch yet, that the study touched, are the ngrams. Lets try bigrams first using the 5k features model. Among all the ngram comparisons, it scored best on average."
   ]
  },
  {
   "attachments": {
    "image.png": {
     "image/png": "[encoded data removed]"
    }
   },
   "cell_type": "markdown",
   "metadata": {},
   "source": [
    "![image.png](attachment:image.png)"
   ]
  },
  {
   "cell_type": "code",
   "execution_count": null,
   "metadata": {},
   "outputs": [],
   "source": [
    "# Create a TF-IDF vectorizer to convert text into numerical features\n",
    "vectorizer = TfidfVectorizer(max_features=5000, stop_words='english', ngram_range=(2, 2))\n",
    "X = vectorizer.fit_transform(df_cleaned[\"text_stemmed\"])\n",
    "y = df_cleaned[\"fake\"]\n",
    "\n",
    "# Train a decision tree classifier using 5-fold-cross-validation\n",
    "tree_model = DecisionTreeClassifier()\n",
    "scores = cross_val_score(tree_model, X, y, cv=5)\n",
    "\n",
    "# Print the cross-validation accuracy scores\n",
    "print(\"Cross-Validation Accuracy Scores:\")\n",
    "for fold, score in enumerate(scores, start=1):\n",
    "    print(f\"Fold {fold}: {score}\")\n",
    "    \n",
    "    \n",
    "print(\"Average Accuracy: \", scores.mean())"
   ]
  },
  {
   "cell_type": "code",
   "execution_count": null,
   "metadata": {},
   "outputs": [],
   "source": [
    "# Create a TF-IDF vectorizer to convert text into numerical features\n",
    "vectorizer = TfidfVectorizer(max_features=5000, stop_words='english', ngram_range=(3, 3))\n",
    "X = vectorizer.fit_transform(df_cleaned[\"text_stemmed\"])\n",
    "y = df_cleaned[\"fake\"]\n",
    "\n",
    "# Train a decision tree classifier using 5-fold-cross-validation\n",
    "tree_model = DecisionTreeClassifier()\n",
    "scores = cross_val_score(tree_model, X, y, cv=5)\n",
    "\n",
    "# Print the cross-validation accuracy scores\n",
    "print(\"Cross-Validation Accuracy Scores:\")\n",
    "for fold, score in enumerate(scores, start=1):\n",
    "    print(f\"Fold {fold}: {score}\")\n",
    "    \n",
    "    \n",
    "print(\"Average Accuracy: \", scores.mean())"
   ]
  },
  {
   "cell_type": "code",
   "execution_count": null,
   "metadata": {},
   "outputs": [],
   "source": [
    "# Create a TF-IDF vectorizer to convert text into numerical features\n",
    "vectorizer = TfidfVectorizer(max_features=5000, stop_words='english', ngram_range=(4, 4))\n",
    "X = vectorizer.fit_transform(df_cleaned[\"text_stemmed\"])\n",
    "y = df_cleaned[\"fake\"]\n",
    "\n",
    "# Train a decision tree classifier using 5-fold-cross-validation\n",
    "tree_model = DecisionTreeClassifier()\n",
    "scores = cross_val_score(tree_model, X, y, cv=5)\n",
    "\n",
    "# Print the cross-validation accuracy scores\n",
    "print(\"Cross-Validation Accuracy Scores:\")\n",
    "for fold, score in enumerate(scores, start=1):\n",
    "    print(f\"Fold {fold}: {score}\")\n",
    "    \n",
    "    \n",
    "print(\"Average Accuracy: \", scores.mean())"
   ]
  },
  {
   "cell_type": "code",
   "execution_count": null,
   "metadata": {},
   "outputs": [],
   "source": [
    "# Create a TF-IDF vectorizer to convert text into numerical features\n",
    "vectorizer = TfidfVectorizer(max_features=5000, stop_words='english', ngram_range=(1, 4))\n",
    "X = vectorizer.fit_transform(df_cleaned[\"text_stemmed\"])\n",
    "y = df_cleaned[\"fake\"]\n",
    "\n",
    "# Train a decision tree classifier using 5-fold-cross-validation\n",
    "tree_model = DecisionTreeClassifier()\n",
    "scores = cross_val_score(tree_model, X, y, cv=5)\n",
    "\n",
    "# Print the cross-validation accuracy scores\n",
    "print(\"Cross-Validation Accuracy Scores:\")\n",
    "for fold, score in enumerate(scores, start=1):\n",
    "    print(f\"Fold {fold}: {score}\")\n",
    "    \n",
    "    \n",
    "print(\"Average Accuracy: \", scores.mean())"
   ]
  },
  {
   "cell_type": "markdown",
   "metadata": {},
   "source": [
    "We can now see that the accuracy declines with a heightened ngram setting. The last option is variable, where SKLEARN tries all variants and finds the best estimators.\n",
    "\n",
    "When comparing it with the non-n-gram model, this one scores about 1 percent of mean accuracy worse, however, the maximum accuracy is just lowered by around 0.5 percent.\n",
    "\n",
    "We can conclude that in this setting, the unigram model seems to be the way to go forward.\n",
    "\n",
    "Comparing this to the LSVM TF-IDF model with maximum features 50 thousand, that scored 92.0 percent accuracy in the study, we got to a quite satisfying accuracy. Mentioning the fact that more modern technology and packages make this process seemingly easy."
   ]
  },
  {
   "cell_type": "markdown",
   "metadata": {},
   "source": [
    "The next main task is to illustrate the explainability that such a tree model offers. Above in the case of the reuters mistake, we could already spot one main advantage, since we can \"rank\" the decision points and look into reasons why this might be the case. However, suspecting that lower down values might not really make sense, we are first going to plot the decision tree in a little bigger manner, looking into possible paths."
   ]
  },
  {
   "cell_type": "code",
   "execution_count": null,
   "metadata": {},
   "outputs": [],
   "source": [
    "#Best Model so far!\n",
    "\n",
    "# Split the dataset into training and testing sets\n",
    "train_data, test_data, train_labels, test_labels = train_test_split(df_cleaned['text_stemmed'], df_cleaned['fake'], test_size=0.2, random_state=15)\n",
    "\n",
    "# Create a TF-IDF vectorizer to convert text into numerical features\n",
    "vectorizer = TfidfVectorizer(max_features=5000, stop_words='english')\n",
    "train_features = vectorizer.fit_transform(train_data)\n",
    "test_features = vectorizer.transform(test_data)\n",
    "\n",
    "# Train a decision tree classifier\n",
    "tree_model = DecisionTreeClassifier()\n",
    "tree_model.fit(train_features, train_labels)\n",
    "\n",
    "# Extract feature names from the vectorizer\n",
    "feature_names = vectorizer.get_feature_names_out()\n",
    "\n",
    "# Visualize the decision tree\n",
    "tree.plot_tree(tree_model, feature_names=feature_names)\n",
    "\n",
    "# Get the most important features for classification\n",
    "importance = tree_model.feature_importances_\n",
    "important_features = [(feature_names[i], importance[i]) for i in range(len(feature_names))]\n",
    "important_features.sort(key=lambda x: x[1], reverse=True)\n",
    "\n",
    "# Print the top 10 important features\n",
    "print(\"Top 10 important features:\")\n",
    "for feature, importance in important_features[:10]:\n",
    "    print(f\"{feature}: {importance}\")\n"
   ]
  },
  {
   "cell_type": "code",
   "execution_count": null,
   "metadata": {},
   "outputs": [],
   "source": [
    "pred = tree_model.predict(test_features)\n",
    "\n",
    "loc_test_labels = test_labels.reset_index()\n",
    "sum_correct = 0\n",
    "for i in range(0, len(pred)-1):\n",
    "    if pred[i] == loc_test_labels[\"fake\"][i]:\n",
    "        sum_correct += 1\n",
    "\n",
    "\n",
    "sum_correct / len(pred) # 95.2% items predicted positively in total"
   ]
  },
  {
   "cell_type": "code",
   "execution_count": null,
   "metadata": {},
   "outputs": [],
   "source": [
    "from matplotlib import pyplot as plt\n",
    "fig, axes = plt.subplots(nrows = 1,ncols = 1,figsize = (30,30), dpi=600)\n",
    "tree.plot_tree(tree_model, filled=True, feature_names=feature_names)\n",
    "plt.savefig('tree.png', dpi=600)\n",
    "plt.show()"
   ]
  },
  {
   "attachments": {
    "image.png": {
     "image/png": "[encoded data removed]"
    }
   },
   "cell_type": "markdown",
   "metadata": {},
   "source": [
    "The image \"tree.png\" is saved in a pretty high resolution, so one can inspect it manually. The arbitrary node annotates the word used to a path further down the tree, indicating the condition that ONE feature as a whole should hold. The child on the left hand side is chosen as a further path if the condition is held, and the left one if not. The so called \"leaf node\", a node with no further children, marks the final decision. The sample mark tells us how many of the train set articles did come to this point, and the value indicates how many of the samples are either fake or not.\n",
    "\n",
    "![image.png](attachment:image.png)\n",
    "\n",
    "So far we do not really know what the value here means, since either fake or not fake might be first or second in this array. To find out, we can apply a technique that is used in many types of models to provide explainability, but it should hold very much value for the tree model especially. Note that we will explain what the features values can mean (TF-IDF feature)."
   ]
  },
  {
   "cell_type": "markdown",
   "metadata": {},
   "source": [
    "We first talked about stop words removal and stemming. The following text already went through those."
   ]
  },
  {
   "cell_type": "code",
   "execution_count": null,
   "metadata": {},
   "outputs": [],
   "source": [
    "test_data[8232]"
   ]
  },
  {
   "cell_type": "markdown",
   "metadata": {},
   "source": [
    "Now, feature selection, in our case, the TF-IDF measure transforms this paragraph into a sparse matrix. The study under evaluation uses the following paragraph to explain TF-IDF:\n",
    "\n",
    "\"The Term Frequency-Inverted Document Frequency (TF-IDF) is a weighting metric\n",
    "often used in information retrieval and natural language processing. It is a statistical\n",
    "metric used to measure how important a term is to a document in a dataset. A term\n",
    "importance increases with the number of times a word appears in the document,\n",
    "however, this is counteracted by the frequency of the word in the corpus.\n",
    "One of the main characteristics of IDF is it weights down the term frequency while\n",
    "scaling up the rare ones. For example, words such as “the” and “then” often appear in\n",
    "the text, and if we only use TF, terms such as these will dominate the frequency count.\n",
    "However, using IDF scales down the impact of these terms.\""
   ]
  },
  {
   "cell_type": "code",
   "execution_count": null,
   "metadata": {},
   "outputs": [],
   "source": [
    "print(test_features[0])"
   ]
  },
  {
   "cell_type": "markdown",
   "metadata": {},
   "source": [
    "The index shows the relation of the keyword to the others. This can be used to establish context."
   ]
  },
  {
   "cell_type": "code",
   "execution_count": null,
   "metadata": {},
   "outputs": [],
   "source": [
    "tree_model.predict(test_features[0])"
   ]
  },
  {
   "cell_type": "markdown",
   "metadata": {},
   "source": [
    "Above you can see what our model would predict for the sparse matrix as input - it would classify it as no fake news. (0 = real news, 1 = fake news) The IDs correspond to the feature IDs, which can be put into names (as we did in the tree model visualization)"
   ]
  },
  {
   "cell_type": "code",
   "execution_count": null,
   "metadata": {},
   "outputs": [],
   "source": [
    "len(feature_names) #This is 5000 long because we established max_features = 5000"
   ]
  },
  {
   "cell_type": "code",
   "execution_count": null,
   "metadata": {},
   "outputs": [],
   "source": [
    "feature_names"
   ]
  },
  {
   "cell_type": "code",
   "execution_count": null,
   "metadata": {},
   "outputs": [],
   "source": [
    "print(tree_model.decision_path(test_features[0]))"
   ]
  },
  {
   "cell_type": "code",
   "execution_count": null,
   "metadata": {},
   "outputs": [],
   "source": [
    "n_nodes = tree_model.tree_.node_count\n",
    "children_left = tree_model.tree_.children_left\n",
    "children_right = tree_model.tree_.children_right\n",
    "feature = tree_model.tree_.feature\n",
    "threshold = tree_model.tree_.threshold\n",
    "\n",
    "X_test = test_features\n",
    "\n",
    "\n",
    "node_indicator = tree_model.decision_path(X_test)\n",
    "leaf_id = tree_model.apply(X_test)\n",
    "\n",
    "sample_id = 2\n",
    "# obtain ids of the nodes `sample_id` goes through, i.e., row `sample_id`\n",
    "node_index = node_indicator.indices[\n",
    "    node_indicator.indptr[sample_id] : node_indicator.indptr[sample_id + 1]\n",
    "]\n",
    "\n",
    "print(\"Rules used to predict sample {id}:\\n\".format(id=sample_id))\n",
    "for node_id in node_index:\n",
    "    # continue to the next node if it is a leaf node\n",
    "    if leaf_id[sample_id] == node_id:\n",
    "        continue\n",
    "\n",
    "    # check if value of the split feature for sample 0 is below threshold\n",
    "    if X_test[sample_id, feature[node_id]] <= threshold[node_id]:\n",
    "        threshold_sign = \"<=\"\n",
    "    else:\n",
    "        threshold_sign = \">\"\n",
    "\n",
    "    print(\n",
    "        \"decision node {node} : (X_test[{sample}, {feature}] = {value}) \"\n",
    "        \"{inequality} {threshold})\".format(\n",
    "            node=node_id,\n",
    "            sample=sample_id,\n",
    "            feature=feature[node_id],\n",
    "            value=X_test[sample_id, feature[node_id]],\n",
    "            inequality=threshold_sign,\n",
    "            threshold=threshold[node_id],\n",
    "        )\n",
    "    )"
   ]
  },
  {
   "cell_type": "markdown",
   "metadata": {},
   "source": [
    "This code from https://scikit-learn.org/stable/auto_examples/tree/plot_unveil_tree_structure.html\n",
    "brings light into the decision path of sample 2 out of X_test. It allows us to see the path in the data.\n",
    "\n",
    "We could now annotate this with the word corresponding to the feature and the value, but we can already see this in a better way by visualizing it again in a graph. Remember that we plotted the whole tree before, so contrasting this might be useful. We show the full graph with the nodes it passes through highlighted in a very bright color according to https://stackoverflow.com/questions/55878247/how-to-display-the-path-of-a-decision-tree-for-test-samples    (with adaptions)\n",
    "\n",
    "We will use the same code for another sample."
   ]
  },
  {
   "cell_type": "code",
   "execution_count": null,
   "metadata": {},
   "outputs": [],
   "source": [
    "import pydotplus\n",
    "\n",
    "dot_data = tree.export_graphviz(tree_model, out_file=None,\n",
    "                                feature_names=feature_names,\n",
    "                                filled=True, rounded=True,\n",
    "                                special_characters=True)\n",
    "graph = pydotplus.graph_from_dot_data(dot_data)\n",
    "\n",
    "samples = X_test[514]\n",
    "decision_paths = tree_model.decision_path(samples)\n",
    "\n",
    "for decision_path in decision_paths:\n",
    "    for n, node_value in enumerate(decision_path.toarray()[0]):\n",
    "        if node_value == 0:\n",
    "            continue\n",
    "        node = graph.get_node(str(n))[0]            \n",
    "        node.set_fillcolor('green')\n",
    "        labels = node.get_attributes()['label'].split('<br/>')\n",
    "        for i, label in enumerate(labels):\n",
    "            if label.startswith('samples = '):\n",
    "                labels[i] = 'samples = {}'.format(int(label.split('=')[1]) + 1)\n",
    "\n",
    "        node.set('label', '<br/>'.join(labels))"
   ]
  },
  {
   "cell_type": "code",
   "execution_count": null,
   "metadata": {},
   "outputs": [],
   "source": [
    "import graphviz\n",
    "from IPython.display import Image\n",
    "graph.write_png(\"decision_path_highlighted.png\")\n",
    "Image(graph.create_png())"
   ]
  },
  {
   "cell_type": "markdown",
   "metadata": {},
   "source": [
    "You can look at the corresponding decision path under decision_path_highlighted.png, the resolution is too high for the notebook."
   ]
  },
  {
   "cell_type": "markdown",
   "metadata": {},
   "source": [
    "We found the article based on the text under: https://www.reuters.com/article/usa-trump-idUKL1N1NX1MC. It is a true article (although somewhat absurd)"
   ]
  },
  {
   "cell_type": "code",
   "execution_count": null,
   "metadata": {},
   "outputs": [],
   "source": [
    "test_data[514]"
   ]
  },
  {
   "cell_type": "code",
   "execution_count": null,
   "metadata": {},
   "outputs": [],
   "source": [
    "test_labels[514]"
   ]
  },
  {
   "cell_type": "markdown",
   "metadata": {},
   "source": [
    "Looking at the green path we can see that we selected a sample with the probably longest path with a leaf node that indicates fake news as zero, meaning that value = [first, second] illustrates that the first is no fake news and the second one is fake news. Therefore, the model worked pretty well. Let's look at another example now."
   ]
  },
  {
   "cell_type": "code",
   "execution_count": null,
   "metadata": {},
   "outputs": [],
   "source": [
    "import pydotplus\n",
    "\n",
    "dot_data = tree.export_graphviz(tree_model, out_file=None,\n",
    "                                feature_names=feature_names,\n",
    "                                filled=True, rounded=True,\n",
    "                                special_characters=True)\n",
    "graph = pydotplus.graph_from_dot_data(dot_data)\n",
    "\n",
    "samples = X_test[700]\n",
    "decision_paths = tree_model.decision_path(samples)\n",
    "\n",
    "for decision_path in decision_paths:\n",
    "    for n, node_value in enumerate(decision_path.toarray()[0]):\n",
    "        if node_value == 0:\n",
    "            continue\n",
    "        node = graph.get_node(str(n))[0]            \n",
    "        node.set_fillcolor('green')\n",
    "        labels = node.get_attributes()['label'].split('<br/>')\n",
    "        for i, label in enumerate(labels):\n",
    "            if label.startswith('samples = '):\n",
    "                labels[i] = 'samples = {}'.format(int(label.split('=')[1]) + 1)\n",
    "\n",
    "        node.set('label', '<br/>'.join(labels))"
   ]
  },
  {
   "cell_type": "code",
   "execution_count": null,
   "metadata": {},
   "outputs": [],
   "source": [
    "import graphviz\n",
    "from IPython.display import Image\n",
    "graph.write_png(\"decision_path_highlighted_2.png\")\n",
    "Image(graph.create_png())"
   ]
  },
  {
   "cell_type": "code",
   "execution_count": null,
   "metadata": {},
   "outputs": [],
   "source": [
    "test_data[700]"
   ]
  },
  {
   "cell_type": "code",
   "execution_count": null,
   "metadata": {},
   "outputs": [],
   "source": [
    "test_labels[700]"
   ]
  },
  {
   "cell_type": "markdown",
   "metadata": {},
   "source": [
    "We can see that there is another path leading to another leaf node, and we can look at the path that led us there. Now, what can we do with this information? We can naively look at the path that lead us there and imply some things. Apparently, brzezinski and macron seem to play a role. The article has been identified to be fake news. Out of the training sample, 5112 samples have come down to this path. That is a big number.\n",
    "\n",
    "But what does the number for the feature mean? The number for the feature is what our vectorizer transformed the text into, a TF-IDF measure that tries to put words into relations, where a high number indicates that there is a connection to the word in the text, but it might not even contain the word itself. Pretty abstract huh. However, it is used in practice many times. At this point, we did not figure out a way to illustrate this better than https://towardsdatascience.com/understanding-tf-idf-a-traditional-approach-to-feature-extraction-in-nlp-a5bfbe04723f#:~:text=TF%2DIDF%2C%20short%20for%20Term,in%20a%20document%20or%20corpus. did."
   ]
  },
  {
   "cell_type": "markdown",
   "metadata": {},
   "source": [
    "In essence, analysing these decision paths and looking at them can lead to the detection of linguistic cues that the model used in order to determine if it is fake news or not. At the highest level, our decision tree model relies more on the topic than the overall linguistic compilation, it seems. This might be because of selection bias in the training dataset (e.g. all articles concerning macron in the set are fake news) or other reasons. There is a way to find out, but it is very expensive! However, we argue that this way of using tree-based models to detect fake news has many potential pros, the biggest being the native explainability that tree models offer (even after applying various more complicated potential feature engineering techniques).\n",
    "\n",
    "The ways of illustrating that we looked at seem to hold much value and come pretty much standard, without having to use advanced techniques like SHAP.\n",
    "\n",
    "As a last task we can see two things happening:\n",
    "a) build a LS-SVM model (that scored better in the study) and try to do the same explainability things we did here (maybe using SHAP or consorts) or\n",
    "b) test the model on another dataset, first just predicting, then maybe also training. Compare and contrast so to say.\n",
    "\n",
    "We decided to do option b)."
   ]
  },
  {
   "cell_type": "markdown",
   "metadata": {},
   "source": [
    "## Comparison with new dataset\n",
    "\n",
    "Since the accuracy is pretty high and the model is pretty explainable, we want to see what happens when we run it on a new dataset. We expect the accuracy to drastically drop and the explainability to be pretty random. After that, we will train it on the new dataset as well and compare and contrast."
   ]
  },
  {
   "cell_type": "code",
   "execution_count": null,
   "metadata": {},
   "outputs": [],
   "source": [
    "#!wget https://www.cs.ucsb.edu/~william/data/liar_dataset.zip"
   ]
  },
  {
   "cell_type": "code",
   "execution_count": null,
   "metadata": {},
   "outputs": [],
   "source": [
    "#!unzip -o liar_dataset.zip"
   ]
  },
  {
   "cell_type": "code",
   "execution_count": null,
   "metadata": {},
   "outputs": [],
   "source": [
    "LIAR_train = pd.read_csv('train.tsv', sep='\\t', header=None)"
   ]
  },
  {
   "cell_type": "code",
   "execution_count": null,
   "metadata": {},
   "outputs": [],
   "source": [
    "LIAR_test = pd.read_csv('test.tsv', sep='\\t', header=None)"
   ]
  },
  {
   "cell_type": "code",
   "execution_count": null,
   "metadata": {},
   "outputs": [],
   "source": [
    "LIAR = pd.concat([LIAR_train, LIAR_test])"
   ]
  },
  {
   "cell_type": "code",
   "execution_count": null,
   "metadata": {},
   "outputs": [],
   "source": [
    "LIAR"
   ]
  },
  {
   "cell_type": "code",
   "execution_count": null,
   "metadata": {},
   "outputs": [],
   "source": [
    "LIAR = LIAR.iloc[:, :8]"
   ]
  },
  {
   "cell_type": "code",
   "execution_count": null,
   "metadata": {},
   "outputs": [],
   "source": [
    "LIAR.rename(columns = {0:'ID_politifact', 1:'label', 2:'statement', 3:'subjects', 4:'speaker', 5:'speakers_job_title', 6:'state_info', 7:'party_affiliation'}, inplace = True)"
   ]
  },
  {
   "cell_type": "code",
   "execution_count": null,
   "metadata": {},
   "outputs": [],
   "source": [
    "LIAR"
   ]
  },
  {
   "cell_type": "code",
   "execution_count": null,
   "metadata": {},
   "outputs": [],
   "source": [
    "LIAR[\"label\"].unique()"
   ]
  },
  {
   "cell_type": "code",
   "execution_count": null,
   "metadata": {},
   "outputs": [],
   "source": [
    "true_labels = ['true', 'half-true', 'mostly-true']"
   ]
  },
  {
   "cell_type": "code",
   "execution_count": null,
   "metadata": {},
   "outputs": [],
   "source": [
    "LIAR[\"label_binary\"] = LIAR[\"label\"].apply(lambda x: 0 if x in true_labels else 1)"
   ]
  },
  {
   "cell_type": "code",
   "execution_count": null,
   "metadata": {},
   "outputs": [],
   "source": [
    "LIAR[\"statement_len\"] = LIAR[\"statement\"].apply(len)"
   ]
  },
  {
   "cell_type": "code",
   "execution_count": null,
   "metadata": {},
   "outputs": [],
   "source": [
    "LIAR[\"statement_len\"].describe()"
   ]
  },
  {
   "cell_type": "code",
   "execution_count": null,
   "metadata": {},
   "outputs": [],
   "source": [
    "stemmer = PorterStemmer()\n",
    "\n",
    "LIAR[\"statement_stemmed\"] = LIAR['statement'].apply(lambda x: ' '.join([stemmer.stem(word) for word in x.split()]))"
   ]
  },
  {
   "cell_type": "code",
   "execution_count": null,
   "metadata": {},
   "outputs": [],
   "source": [
    "# Split the dataset into training and testing sets\n",
    "train_data, test_data, train_labels, test_labels = train_test_split(LIAR['statement_stemmed'], LIAR['label_binary'], test_size=0.2, random_state=15)\n",
    "\n",
    "# Create a TF-IDF vectorizer to convert text into numerical features\n",
    "vectorizer = TfidfVectorizer(max_features=5000, stop_words='english')\n",
    "train_features = vectorizer.fit_transform(train_data)\n",
    "test_features = vectorizer.transform(test_data)\n",
    "\n",
    "# Train a decision tree classifier\n",
    "tree_model = DecisionTreeClassifier()\n",
    "tree_model.fit(train_features, train_labels)\n",
    "\n",
    "# Extract feature names from the vectorizer\n",
    "feature_names = vectorizer.get_feature_names_out()\n",
    "\n",
    "# Visualize the decision tree\n",
    "tree.plot_tree(tree_model, feature_names=feature_names)\n",
    "\n",
    "# Get the most important features for classification\n",
    "importance = tree_model.feature_importances_\n",
    "important_features = [(feature_names[i], importance[i]) for i in range(len(feature_names))]\n",
    "important_features.sort(key=lambda x: x[1], reverse=True)\n",
    "\n",
    "# Print the top 10 important features\n",
    "print(\"Top 10 important features:\")\n",
    "for feature, importance in important_features[:10]:\n",
    "    print(f\"{feature}: {importance}\")"
   ]
  },
  {
   "cell_type": "code",
   "execution_count": null,
   "metadata": {},
   "outputs": [],
   "source": [
    "pred = tree_model.predict(test_features)\n",
    "\n",
    "loc_test_labels = test_labels.reset_index()\n",
    "sum_correct = 0\n",
    "for i in range(0, len(pred)-1):\n",
    "    if pred[i] == loc_test_labels[\"label_binary\"][i]:\n",
    "        sum_correct += 1\n",
    "\n",
    "\n",
    "sum_correct / len(pred) # "
   ]
  },
  {
   "cell_type": "markdown",
   "metadata": {},
   "source": [
    "The accuracy of the newly trained model is very bad. It is actually just 6% better than random. Let us now again train the best model from above and apply it to the statements."
   ]
  },
  {
   "cell_type": "code",
   "execution_count": null,
   "metadata": {},
   "outputs": [],
   "source": [
    "#Best Model so far!\n",
    "\n",
    "# Split the dataset into training and testing sets\n",
    "train_data, test_data, train_labels, test_labels = train_test_split(df_cleaned['text_stemmed'], df_cleaned['fake'], test_size=0.2, random_state=15)\n",
    "\n",
    "# Create a TF-IDF vectorizer to convert text into numerical features\n",
    "vectorizer = TfidfVectorizer(max_features=5000, stop_words='english')\n",
    "train_features = vectorizer.fit_transform(train_data)\n",
    "test_features = vectorizer.transform(test_data)\n",
    "\n",
    "# Train a decision tree classifier\n",
    "tree_model = DecisionTreeClassifier()\n",
    "tree_model.fit(train_features, train_labels)\n",
    "\n",
    "# Extract feature names from the vectorizer\n",
    "feature_names = vectorizer.get_feature_names_out()\n",
    "\n",
    "# Visualize the decision tree\n",
    "tree.plot_tree(tree_model, feature_names=feature_names)\n",
    "\n",
    "# Get the most important features for classification\n",
    "importance = tree_model.feature_importances_\n",
    "important_features = [(feature_names[i], importance[i]) for i in range(len(feature_names))]\n",
    "important_features.sort(key=lambda x: x[1], reverse=True)\n",
    "\n",
    "# Print the top 10 important features\n",
    "print(\"Top 10 important features:\")\n",
    "for feature, importance in important_features[:10]:\n",
    "    print(f\"{feature}: {importance}\")"
   ]
  },
  {
   "cell_type": "code",
   "execution_count": null,
   "metadata": {},
   "outputs": [],
   "source": [
    "LIAR_set = LIAR[\"statement_stemmed\"]\n",
    "LIAR_label = LIAR[\"label_binary\"]"
   ]
  },
  {
   "cell_type": "code",
   "execution_count": null,
   "metadata": {},
   "outputs": [],
   "source": [
    "test_features_LIAR = vectorizer.transform(LIAR_set)"
   ]
  },
  {
   "cell_type": "code",
   "execution_count": null,
   "metadata": {},
   "outputs": [],
   "source": [
    "pred = tree_model.predict(test_features_LIAR)\n",
    "\n",
    "loc_test_labels = LIAR_label.reset_index()\n",
    "sum_correct = 0\n",
    "for i in range(0, len(pred)-1):\n",
    "    if pred[i] == loc_test_labels[\"label_binary\"][i]:\n",
    "        sum_correct += 1\n",
    "\n",
    "\n",
    "sum_correct / len(pred) # "
   ]
  },
  {
   "cell_type": "markdown",
   "metadata": {},
   "source": [
    "You can see that the accuracy is worse than random on the shorter statements. This might have multiple reasons, e.g. because context matters more with the short statements or we have internal data bias in the dataset for the model building, ...\n",
    "\n",
    "One would have to try out various things in order to optimize for this dataset, but this is out of scope.\n",
    "\n",
    "We would like to continue down this path as well using bigger datasets with real news articles, for example the NELA dataset having 120GB of data, but this exceeds the efforts taken of this little project resource-wise.\n",
    "\n",
    "Thank you for reading!"
   ]
  }
 ],
 "metadata": {
  "deepnote": {},
  "deepnote_execution_queue": [],
  "deepnote_notebook_id": "d4ce772adcc24a0794b8d6eaa15976bb",
  "kernelspec": {
   "display_name": "Python 3 (ipykernel)",
   "language": "python",
   "name": "python3"
  },
  "language_info": {
   "codemirror_mode": {
    "name": "ipython",
    "version": 3
   },
   "file_extension": ".py",
   "mimetype": "text/x-python",
   "name": "python",
   "nbconvert_exporter": "python",
   "pygments_lexer": "ipython3",
   "version": "3.8.10"
  }
 },
 "nbformat": 4,
 "nbformat_minor": 1
}
